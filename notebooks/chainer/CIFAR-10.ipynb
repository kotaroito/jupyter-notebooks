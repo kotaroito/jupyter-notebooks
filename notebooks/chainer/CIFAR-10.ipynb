{
 "cells": [
  {
   "cell_type": "code",
   "execution_count": 1,
   "metadata": {},
   "outputs": [],
   "source": [
    "import requests\n",
    "import os\n",
    "import sys\n",
    "import tarfile\n",
    "import pickle\n",
    "\n",
    "import numpy as np\n",
    "\n",
    "import matplotlib.pyplot as plt\n",
    "%matplotlib inline"
   ]
  },
  {
   "cell_type": "code",
   "execution_count": 2,
   "metadata": {},
   "outputs": [],
   "source": [
    "import random\n",
    "import numpy as np\n",
    "import chainer\n",
    "from chainer.backends import cuda\n",
    "from chainer import Function, gradient_check, report, training, utils, Variable\n",
    "from chainer import datasets, iterators, optimizers, serializers\n",
    "from chainer import Link, Chain, ChainList\n",
    "import chainer.functions as F\n",
    "import chainer.links as L\n",
    "from chainer.training import extensions\n",
    "\n",
    "from chainer.datasets import split_dataset_random, TupleDataset"
   ]
  },
  {
   "cell_type": "markdown",
   "metadata": {},
   "source": [
    "## Load dataset\n",
    "\n",
    "Let's load CIFAR-10 dataset.\n",
    "\n",
    "### Download tar.gz file"
   ]
  },
  {
   "cell_type": "code",
   "execution_count": 3,
   "metadata": {},
   "outputs": [],
   "source": [
    "def maybe_download(url, save_dir = './datasets/'):    \n",
    "    if not os.path.exists(save_dir):\n",
    "        os.mkdir(save_dir)\n",
    "    \n",
    "    filename = url.split('/')[-1]\n",
    "    file_path = os.path.join(save_dir, filename)\n",
    "    if os.path.exists(file_path):\n",
    "        return file_path\n",
    "    \n",
    "    r = requests.get(url)\n",
    "    if r.status_code == 200:    \n",
    "        with open(file_path, 'wb') as fd:\n",
    "            for chunk in r.iter_content(chunk_size=128):\n",
    "                fd.write(chunk)\n",
    "    else:\n",
    "        r.raise_for_status()\n",
    "        \n",
    "    return file_path"
   ]
  },
  {
   "cell_type": "code",
   "execution_count": 4,
   "metadata": {},
   "outputs": [],
   "source": [
    "url = 'https://www.cs.toronto.edu/~kriz/cifar-10-python.tar.gz'\n",
    "file_path = maybe_download(url)"
   ]
  },
  {
   "cell_type": "markdown",
   "metadata": {},
   "source": [
    "### Extract tar file"
   ]
  },
  {
   "cell_type": "code",
   "execution_count": 5,
   "metadata": {},
   "outputs": [],
   "source": [
    "def extract_tar(file_path):\n",
    "    target_dir = os.path.dirname(file_path)\n",
    "\n",
    "    with tarfile.open(file_path) as tar:\n",
    "        for n in tar.getnames():\n",
    "            member = os.path.abspath(os.path.join(target_dir, n))\n",
    "            print(member)\n",
    "            \n",
    "            if not member.startswith(os.path.abspath(target_dir)):\n",
    "                sys.exit(1)\n",
    "\n",
    "        tar.extractall(path=target_dir)"
   ]
  },
  {
   "cell_type": "code",
   "execution_count": 6,
   "metadata": {},
   "outputs": [
    {
     "name": "stdout",
     "output_type": "stream",
     "text": [
      "/tmp/notebooks/chainer/datasets/cifar-10-batches-py\n",
      "/tmp/notebooks/chainer/datasets/cifar-10-batches-py/data_batch_4\n",
      "/tmp/notebooks/chainer/datasets/cifar-10-batches-py/readme.html\n",
      "/tmp/notebooks/chainer/datasets/cifar-10-batches-py/test_batch\n",
      "/tmp/notebooks/chainer/datasets/cifar-10-batches-py/data_batch_3\n",
      "/tmp/notebooks/chainer/datasets/cifar-10-batches-py/batches.meta\n",
      "/tmp/notebooks/chainer/datasets/cifar-10-batches-py/data_batch_2\n",
      "/tmp/notebooks/chainer/datasets/cifar-10-batches-py/data_batch_5\n",
      "/tmp/notebooks/chainer/datasets/cifar-10-batches-py/data_batch_1\n"
     ]
    }
   ],
   "source": [
    "extract_tar(file_path)"
   ]
  },
  {
   "cell_type": "code",
   "execution_count": 7,
   "metadata": {},
   "outputs": [],
   "source": [
    "def unpickle(file):\n",
    "\n",
    "    with open(file, 'rb') as fo:\n",
    "        dict = pickle.load(fo, encoding='bytes')\n",
    "    return dict"
   ]
  },
  {
   "cell_type": "markdown",
   "metadata": {},
   "source": [
    "### Unpickel files"
   ]
  },
  {
   "cell_type": "code",
   "execution_count": 11,
   "metadata": {},
   "outputs": [],
   "source": [
    "pickled_data_dir = \"/tmp/notebooks/chainer/datasets/cifar-10-batches-py\"\n",
    "\n",
    "def load_cifar10(data_dir):\n",
    "    ## Train data\n",
    "    train_data = np.empty((0, 3 * 32 * 32), dtype=np.float32)\n",
    "    train_labels = np.empty((0, 1), dtype=np.int32)\n",
    "\n",
    "    for i in range(1,6):\n",
    "        file = os.path.join(pickled_data_dir, \"data_batch_{}\".format(i))\n",
    "        batch = unpickle(file)\n",
    "\n",
    "        train_data = np.vstack((train_data, batch[b'data']))\n",
    "        train_labels = np.vstack((train_labels, np.array(batch[b'labels']).reshape(-1, 1)))\n",
    "\n",
    "    ## Test data\n",
    "    file = os.path.join(pickled_data_dir, \"test_batch\")\n",
    "    batch = unpickle(file)\n",
    "\n",
    "    test_data = np.empty((0, 3 * 32 * 32), dtype=np.float32)\n",
    "    test_labels = np.empty((0, 1), dtype=np.int32)\n",
    "    test_data = np.vstack((test_data, batch[b'data']))\n",
    "    test_labels = np.vstack((test_labels, np.array(batch[b'labels']).reshape(-1, 1)))\n",
    "    \n",
    "    ## Meta\n",
    "    file = os.path.join(pickled_data_dir, \"batches.meta\")\n",
    "    meta = unpickle(file)\n",
    "    label_names = meta[b'label_names']\n",
    "    \n",
    "    train_labels = train_labels.astype(np.int32)\n",
    "    test_labels = test_labels.astype(np.int32)\n",
    "    \n",
    "    return train_data, train_labels, test_data, test_labels, label_names"
   ]
  },
  {
   "cell_type": "code",
   "execution_count": 12,
   "metadata": {},
   "outputs": [],
   "source": [
    "train_data, train_labels, test_data, test_labels, label_names = load_cifar10(pickled_data_dir)"
   ]
  },
  {
   "cell_type": "code",
   "execution_count": 13,
   "metadata": {},
   "outputs": [
    {
     "name": "stdout",
     "output_type": "stream",
     "text": [
      "train_data shape: (50000, 3072)\n",
      "train_labels shape: (50000, 1)\n",
      "test_data shape: (10000, 3072)\n",
      "test_labels shape: (10000, 1)\n",
      "[b'airplane', b'automobile', b'bird', b'cat', b'deer', b'dog', b'frog', b'horse', b'ship', b'truck']\n",
      "\n",
      "------------------\n",
      "\n",
      "train_data type: float32\n",
      "train_labels type: int32\n",
      "test_data type: float32\n",
      "test_labels type: int32\n"
     ]
    }
   ],
   "source": [
    "print(\"train_data shape: {}\".format(train_data.shape))\n",
    "print(\"train_labels shape: {}\".format(train_labels.shape))\n",
    "print(\"test_data shape: {}\".format(test_data.shape))\n",
    "print(\"test_labels shape: {}\".format(test_labels.shape))\n",
    "print(label_names)\n",
    "\n",
    "print(\"\\n------------------\\n\")\n",
    "print(\"train_data type: {}\".format(train_data.dtype))\n",
    "print(\"train_labels type: {}\".format(train_labels.dtype))\n",
    "print(\"test_data type: {}\".format(test_data.dtype))\n",
    "print(\"test_labels type: {}\".format(test_labels.dtype))"
   ]
  },
  {
   "cell_type": "markdown",
   "metadata": {},
   "source": [
    "### See some examples"
   ]
  },
  {
   "cell_type": "code",
   "execution_count": 12,
   "metadata": {},
   "outputs": [],
   "source": [
    "def show_image(vector):\n",
    "    image = np.moveaxis(vector.reshape(3, 32, 32), 0, -1)\n",
    "    plt.imshow(image.astype(int))"
   ]
  },
  {
   "cell_type": "code",
   "execution_count": 13,
   "metadata": {},
   "outputs": [
    {
     "ename": "NameError",
     "evalue": "name 'train_data_orig' is not defined",
     "output_type": "error",
     "traceback": [
      "\u001b[0;31m---------------------------------------------------------------------------\u001b[0m",
      "\u001b[0;31mNameError\u001b[0m                                 Traceback (most recent call last)",
      "\u001b[0;32m<ipython-input-13-eea9c37f262e>\u001b[0m in \u001b[0;36m<module>\u001b[0;34m()\u001b[0m\n\u001b[0;32m----> 1\u001b[0;31m \u001b[0mshow_image\u001b[0m\u001b[0;34m(\u001b[0m\u001b[0mtrain_data_orig\u001b[0m\u001b[0;34m[\u001b[0m\u001b[0;36m0\u001b[0m\u001b[0;34m]\u001b[0m\u001b[0;34m)\u001b[0m\u001b[0;34m\u001b[0m\u001b[0m\n\u001b[0m",
      "\u001b[0;31mNameError\u001b[0m: name 'train_data_orig' is not defined"
     ]
    }
   ],
   "source": [
    "show_image(train_data_orig[0])"
   ]
  },
  {
   "cell_type": "markdown",
   "metadata": {},
   "source": [
    "## Prepare iterators"
   ]
  },
  {
   "cell_type": "code",
   "execution_count": 14,
   "metadata": {},
   "outputs": [],
   "source": [
    "train = TupleDataset(train_data, train_labels)\n",
    "valid = TupleDataset(test_data, test_labels)\n",
    "\n",
    "batch_size = 128\n",
    "\n",
    "train_iter = iterators.SerialIterator(train, batch_size)\n",
    "valid_iter = iterators.SerialIterator(valid, batch_size, repeat=False, shuffle=False)"
   ]
  },
  {
   "cell_type": "markdown",
   "metadata": {},
   "source": [
    "## Build the model"
   ]
  },
  {
   "cell_type": "code",
   "execution_count": 23,
   "metadata": {},
   "outputs": [],
   "source": [
    "class LeNet5LikeConvNet(Chain):\n",
    "    def __init__(self):\n",
    "        super(LeNet5LikeConvNet, self).__init__()\n",
    "        \n",
    "        with self.init_scope():\n",
    "            self.c1 = L.Convolution2D(3, 6, ksize=5, stride=1)\n",
    "            self.c3 = L.Convolution2D(6, 16, ksize=5, stride=1)\n",
    "            self.c5 = L.Convolution2D(16, 120, ksize=5, stride=1)\n",
    "            self.f6  = L.Linear(None, 84)\n",
    "            self.out = L.Linear(84, 10)\n",
    "    \n",
    "    def normalize(self, x):\n",
    "        x = F.reshape(x, (-1, 3, 32, 32))\n",
    "        x = F.cast(X, np.float32)        \n",
    "    \n",
    "    def __call__(self, x):\n",
    "        X = F.reshape(x, (-1, 3, 32, 32))\n",
    "        X = F.cast(X, np.float32)\n",
    "        \n",
    "        self.c1(X)\n",
    "\n",
    "        a1 = F.tanh(self.c1(X))                                # shape: (m, 6, 28, 28)\n",
    "        a2 = F.max_pooling_2d(a1, 2, stride=2)  # shape: (m, 6, 14, 14)\n",
    "        a3 = F.tanh(self.c3(a2))                              # shape: (m, 16, 10, 10)\n",
    "        a4 = F.max_pooling_2d(a3, 2, stride=2)  # shape: (m, 16, 5, 5)\n",
    "        a5 = F.tanh(self.c5(a4))                              # shape: (m, 120, 1, 1)\n",
    "        a6 = F.tanh(self.f6(a5))                              # shape: (m, 84)\n",
    "        out =self.out(a6)                                         # shape: (m, 10) \n",
    "        \n",
    "        if chainer.config.train:\n",
    "            return out\n",
    "\n",
    "        return F.softmax(out)"
   ]
  },
  {
   "cell_type": "code",
   "execution_count": 24,
   "metadata": {},
   "outputs": [
    {
     "name": "stdout",
     "output_type": "stream",
     "text": [
      "6.0\n",
      "<class 'numpy.float64'>\n",
      "[ 59.  43.  50. ... 140.  84.  72.]\n",
      "<class 'numpy.float64'>\n",
      "<class 'chainer.variable.Variable'>\n"
     ]
    }
   ],
   "source": [
    "x0, y0 = train[0]\n",
    "model = LeNet5LikeConvNet()\n",
    "\n",
    "print(y0[0])\n",
    "print(type(y0[0]))\n",
    "print(x0)\n",
    "print(type(x0[1025]))\n",
    "\n",
    "print(type(model(x0)))\n",
    "\n",
    "# print(model(x0).shape)\n",
    "# print(model(x0))"
   ]
  },
  {
   "cell_type": "code",
   "execution_count": null,
   "metadata": {},
   "outputs": [],
   "source": []
  }
 ],
 "metadata": {
  "kernelspec": {
   "display_name": "Python 3",
   "language": "python",
   "name": "python3"
  },
  "language_info": {
   "codemirror_mode": {
    "name": "ipython",
    "version": 3
   },
   "file_extension": ".py",
   "mimetype": "text/x-python",
   "name": "python",
   "nbconvert_exporter": "python",
   "pygments_lexer": "ipython3",
   "version": "3.5.2"
  }
 },
 "nbformat": 4,
 "nbformat_minor": 2
}

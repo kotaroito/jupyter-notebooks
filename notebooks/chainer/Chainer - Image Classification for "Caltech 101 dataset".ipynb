{
 "cells": [
  {
   "cell_type": "markdown",
   "metadata": {},
   "source": [
    "# Overview\n",
    "\n",
    "This notebook is an example of image classification using \"Caltech 101 dataset\"."
   ]
  },
  {
   "cell_type": "markdown",
   "metadata": {},
   "source": [
    "## Prepare \"Caltech 101 dataset\"\n",
    "\n",
    "https://github.com/kotaroito/python-dataset-tools/tree/master/caltech101\n",
    "\n",
    "\n",
    "#### Usage\n",
    "\n",
    "```\n",
    "$ python caltech101/create_dataset.py ./101_ObjectCategories --out ./outdir/caltech101 --prefix /tmp/data/caltech101/images\n",
    "\n",
    "$ python caltech101/crop_image.py ./outdir/caltech101/images ./outdir/caltech101/images/\n",
    "```"
   ]
  },
  {
   "cell_type": "markdown",
   "metadata": {},
   "source": [
    "## Prepare mean.npy\n",
    "\n",
    "#### Usage\n",
    "\n",
    "```\n",
    "$ docker-compose run example python3 examples/chainer/imagenet/compute_mean.py data/caltech101/train.txt --root /tmp/data/caltech101/images\n",
    "```"
   ]
  },
  {
   "cell_type": "markdown",
   "metadata": {},
   "source": [
    "## Run example\n",
    "\n",
    "```\n",
    "$ docker-compose run example python3 examples/chainer/imagenet/train_imagenet.py data/caltech101/train.txt data/caltech101/valid.txt -a alex -m data/caltech101/mean.npy\n",
    "```"
   ]
  },
  {
   "cell_type": "code",
   "execution_count": null,
   "metadata": {},
   "outputs": [],
   "source": []
  }
 ],
 "metadata": {
  "kernelspec": {
   "display_name": "Python 3",
   "language": "python",
   "name": "python3"
  },
  "language_info": {
   "codemirror_mode": {
    "name": "ipython",
    "version": 3
   },
   "file_extension": ".py",
   "mimetype": "text/x-python",
   "name": "python",
   "nbconvert_exporter": "python",
   "pygments_lexer": "ipython3",
   "version": "3.5.2"
  }
 },
 "nbformat": 4,
 "nbformat_minor": 2
}

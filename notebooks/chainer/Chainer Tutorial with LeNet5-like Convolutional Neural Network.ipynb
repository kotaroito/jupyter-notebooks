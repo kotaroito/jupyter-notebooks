{
 "cells": [
  {
   "cell_type": "code",
   "execution_count": 31,
   "metadata": {},
   "outputs": [],
   "source": [
    "import numpy as np\n",
    "import chainer\n",
    "from chainer.backends import cuda\n",
    "from chainer import Function, gradient_check, report, training, utils, Variable\n",
    "from chainer import datasets, iterators, optimizers, serializers\n",
    "from chainer import Link, Chain, ChainList\n",
    "import chainer.functions as F\n",
    "import chainer.links as L\n",
    "from chainer.training import extensions\n",
    "\n",
    "from chainer.datasets import split_dataset_random"
   ]
  },
  {
   "cell_type": "markdown",
   "metadata": {},
   "source": [
    "## Load MNIST dataset"
   ]
  },
  {
   "cell_type": "code",
   "execution_count": 32,
   "metadata": {},
   "outputs": [],
   "source": [
    "from chainer.datasets import mnist\n",
    "\n",
    "train_valid, test = mnist.get_mnist()"
   ]
  },
  {
   "cell_type": "code",
   "execution_count": 33,
   "metadata": {},
   "outputs": [
    {
     "name": "stdout",
     "output_type": "stream",
     "text": [
      "train_valid: <class 'chainer.datasets.tuple_dataset.TupleDataset'>\n",
      "test: <class 'chainer.datasets.tuple_dataset.TupleDataset'>\n",
      "# of train_valid: 60000\n",
      "# of test: 10000\n"
     ]
    }
   ],
   "source": [
    "print(\"train_valid: %s\" % type(train_valid))\n",
    "print(\"test: %s\" % type(test))\n",
    "\n",
    "print(\"# of train_valid: %s\" % len(train_valid))\n",
    "print(\"# of test: %s\" % len(test))"
   ]
  },
  {
   "cell_type": "markdown",
   "metadata": {},
   "source": [
    "### Split the dataset"
   ]
  },
  {
   "cell_type": "code",
   "execution_count": 34,
   "metadata": {},
   "outputs": [],
   "source": [
    "train, valid = split_dataset_random(train_valid, 50000, seed = 0)"
   ]
  },
  {
   "cell_type": "code",
   "execution_count": 35,
   "metadata": {},
   "outputs": [
    {
     "name": "stdout",
     "output_type": "stream",
     "text": [
      "# of training dataset:  50000\n",
      "# of validation dataset:  10000\n",
      "# of test dataset:  10000\n"
     ]
    }
   ],
   "source": [
    "print(\"# of training dataset: \",  len(train))\n",
    "print(\"# of validation dataset: \", len(valid))\n",
    "print(\"# of test dataset: \", len(test))"
   ]
  },
  {
   "cell_type": "markdown",
   "metadata": {},
   "source": [
    "## Prepare iterators"
   ]
  },
  {
   "cell_type": "code",
   "execution_count": 36,
   "metadata": {},
   "outputs": [],
   "source": [
    "batch_size = 128\n",
    "\n",
    "train_iter = iterators.SerialIterator(train, batch_size)\n",
    "valid_iter = iterators.SerialIterator(valid, batch_size, repeat=False, shuffle=False)\n",
    "test_iter  = iterators.SerialIterator(test, batch_size, repeat=False, shuffle=False)"
   ]
  },
  {
   "cell_type": "markdown",
   "metadata": {},
   "source": [
    "## Build the model"
   ]
  },
  {
   "cell_type": "code",
   "execution_count": 37,
   "metadata": {},
   "outputs": [],
   "source": [
    "class LeNet5LikeNet(Chain):\n",
    "    def __init__(self):\n",
    "        super(LeNet5LikeNet, self).__init__()\n",
    "        \n",
    "        with self.init_scope():\n",
    "            self.c1 = L.Convolution2D(1, 6, ksize=5, stride=1, pad=2)  # same padding      \n",
    "            self.c3 = L.Convolution2D(6, 16, ksize=5, stride=1)\n",
    "            self.c5 = L.Convolution2D(16, 120, ksize=5, stride=1)\n",
    "            self.f6  = L.Linear(None, 84)\n",
    "            self.out = L.Linear(84, 10)\n",
    "    \n",
    "    def __call__(self, x):\n",
    "        X = F.reshape(x, (-1, 1, 28, 28))\n",
    "\n",
    "        a1 = F.tanh(self.c1(X))                                # shape: (m, 6, 28, 28)\n",
    "        a2 = F.max_pooling_2d(a1, 2, stride=2)  # shape: (m, 6, 14, 14)\n",
    "        a3 = F.tanh(self.c3(a2))                              # shape: (m, 16, 10, 10)\n",
    "        a4 = F.max_pooling_2d(a3, 2, stride=2)  # shape: (m, 16, 5, 5)\n",
    "        a5 = F.tanh(self.c5(a4))                              # shape: (m, 120, 1, 1)\n",
    "        a6 = F.tanh(self.f6(a5))                              # shape: (m, 84)\n",
    "        out =self.out(a6)                                         # shape: (m, 10) \n",
    "        \n",
    "        if chainer.config.train:\n",
    "            return out\n",
    "\n",
    "        return F.softmax(out)"
   ]
  },
  {
   "cell_type": "code",
   "execution_count": 38,
   "metadata": {},
   "outputs": [
    {
     "name": "stdout",
     "output_type": "stream",
     "text": [
      "<class 'chainer.variable.Variable'>\n",
      "(1, 10)\n",
      "variable([[-0.25595552  0.11348672  0.25362426 -0.02441835  0.20746998\n",
      "           -0.00869421 -0.19679134  0.36703482 -0.06739937  0.15590465]])\n"
     ]
    }
   ],
   "source": [
    "x0, y0 = train[0]\n",
    "model = LeNet5LikeNet()\n",
    "print(type(model(x0)))\n",
    "\n",
    "print(model(x0).shape)\n",
    "print(model(x0))"
   ]
  },
  {
   "cell_type": "markdown",
   "metadata": {},
   "source": [
    "## Create trainer"
   ]
  },
  {
   "cell_type": "code",
   "execution_count": 39,
   "metadata": {},
   "outputs": [],
   "source": [
    "def create_trainer(model,  train_iter, valid_iter, max_epoch=10, gpu_id = -1):\n",
    "    if gpu_id >= 0:\n",
    "        model.to_gpu(gpu_id)\n",
    "\n",
    "    optimizer = optimizers.SGD()\n",
    "    optimizer.setup(model)\n",
    "    \n",
    "    updater = training.updater.StandardUpdater(train_iter, optimizer, device=gpu_id)\n",
    "\n",
    "    trainer = training.Trainer(updater, (max_epoch, 'epoch'), out='out/mnist')\n",
    "    \n",
    "    trainer.extend(extensions.LogReport())\n",
    "    trainer.extend(extensions.snapshot(filename='snapshot_epoch-{.updater.epoch}'))\n",
    "    trainer.extend(extensions.snapshot_object(model.predictor, filename='model_epoch-{.updater.epoch}'))\n",
    "    trainer.extend(extensions.Evaluator(valid_iter, model, device=gpu_id))\n",
    "    trainer.extend(extensions.PrintReport(['epoch', 'main/loss', 'main/accuracy', 'validation/main/loss', 'validation/main/accuracy', 'elapsed_time']))\n",
    "    trainer.extend(extensions.PlotReport(['main/loss', 'validation/main/loss'], x_key='epoch', file_name='loss.png'))\n",
    "    trainer.extend(extensions.PlotReport(['main/accuracy', 'validation/main/accuracy'], x_key='epoch', file_name='accuracy.png'))\n",
    "    trainer.extend(extensions.dump_graph('main/loss'))\n",
    "    \n",
    "    return trainer"
   ]
  },
  {
   "cell_type": "code",
   "execution_count": 41,
   "metadata": {},
   "outputs": [
    {
     "name": "stdout",
     "output_type": "stream",
     "text": [
      "epoch       main/loss   main/accuracy  validation/main/loss  validation/main/accuracy  elapsed_time\n",
      "\u001b[J1           1.45257     0.636549       1.88146               0.829312                  31.6742       \n",
      "\u001b[J2           0.57058     0.867567       1.71139               0.891515                  62.1012       \n",
      "\u001b[J3           0.384417    0.901763       1.64569               0.910403                  92.3652       \n",
      "\u001b[J4           0.303781    0.918159       1.61006               0.924051                  122.719       \n",
      "\u001b[J5           0.253825    0.929767       1.58688               0.93483                   153.18        \n",
      "\u001b[J6           0.21951     0.939123       1.57087               0.942445                  183.864       \n",
      "\u001b[J7           0.193802    0.945552       1.55869               0.948972                  217.96        \n",
      "\u001b[J8           0.174338    0.950401       1.54917               0.954114                  253.524       \n",
      "\u001b[J9           0.158466    0.955483       1.54171               0.95718                   287.433       \n",
      "\u001b[J10          0.145771    0.958899       1.53571               0.959949                  327.876       \n"
     ]
    }
   ],
   "source": [
    "model = LeNet5LikeNet()\n",
    "model = L.Classifier(model)\n",
    "\n",
    "train_iter.reset()\n",
    "valid_iter.reset()\n",
    "test_iter.reset()\n",
    "\n",
    "trainer = create_trainer(model, train_iter, valid_iter, max_epoch=10)\n",
    "trainer.run()"
   ]
  },
  {
   "cell_type": "markdown",
   "metadata": {},
   "source": [
    "## Evaluate test set"
   ]
  },
  {
   "cell_type": "code",
   "execution_count": 67,
   "metadata": {},
   "outputs": [
    {
     "name": "stdout",
     "output_type": "stream",
     "text": [
      "Test accuracy: 0.9641020569620253\n"
     ]
    }
   ],
   "source": [
    "gpu_id = -1\n",
    "\n",
    "test_evaluator = extensions.Evaluator(test_iter, model, device=gpu_id)\n",
    "results = test_evaluator()\n",
    "print('Test accuracy:', results['main/accuracy'])"
   ]
  },
  {
   "cell_type": "code",
   "execution_count": 16,
   "metadata": {},
   "outputs": [],
   "source": [
    "import matplotlib.pyplot as plt\n",
    "%matplotlib inline"
   ]
  },
  {
   "cell_type": "code",
   "execution_count": 18,
   "metadata": {},
   "outputs": [
    {
     "name": "stdout",
     "output_type": "stream",
     "text": [
      "<class 'numpy.ndarray'>\n",
      "<class '__main__.ConvNet'>\n",
      "[[0.06085572 0.04745439 0.3219122  0.1336315  0.0031591  0.14382526\n",
      "  0.16701122 0.00335385 0.11508172 0.00371499]]\n",
      "prediction: 2, acctual: 2\n"
     ]
    },
    {
     "data": {
      "image/png": "[encoded data removed]",
      "text/plain": [
       "<Figure size 432x288 with 1 Axes>"
      ]
     },
     "metadata": {},
     "output_type": "display_data"
    }
   ],
   "source": [
    "infer_net = LeNet5LikeNet()\n",
    "serializers.load_npz(\n",
    "    'out/snapshot_epoch-1',\n",
    "    infer_net, path='updater/model:main/predictor/')\n",
    "\n",
    "\n",
    "with chainer.using_config('train', False):\n",
    "    test_x, test_label = test[1]\n",
    "    print(type(test_x))\n",
    "    print(type(infer_net))\n",
    "    pred = infer_net(test_x).data\n",
    "    pred_label = pred.argmax(axis=1)\n",
    "\n",
    "    print(pred)\n",
    "\n",
    "    print(\"prediction: {}, acctual: {}\".format(pred_label[0], test_label))\n",
    "    plt.imshow(test_x.reshape(28, 28), cmap='gray')"
   ]
  },
  {
   "cell_type": "code",
   "execution_count": null,
   "metadata": {},
   "outputs": [],
   "source": []
  }
 ],
 "metadata": {
  "kernelspec": {
   "display_name": "Python 3",
   "language": "python",
   "name": "python3"
  },
  "language_info": {
   "codemirror_mode": {
    "name": "ipython",
    "version": 3
   },
   "file_extension": ".py",
   "mimetype": "text/x-python",
   "name": "python",
   "nbconvert_exporter": "python",
   "pygments_lexer": "ipython3",
   "version": "3.5.2"
  }
 },
 "nbformat": 4,
 "nbformat_minor": 2
}

{
 "cells": [
  {
   "cell_type": "code",
   "execution_count": 1,
   "metadata": {},
   "outputs": [],
   "source": [
    "import random\n",
    "import numpy as np\n",
    "import chainer\n",
    "from chainer.backends import cuda\n",
    "from chainer import Function, gradient_check, report, training, utils, Variable\n",
    "from chainer import datasets, iterators, optimizers, serializers\n",
    "from chainer import Link, Chain, ChainList\n",
    "import chainer.functions as F\n",
    "import chainer.links as L\n",
    "from chainer.training import extensions\n",
    "\n",
    "from chainer.datasets import split_dataset_random"
   ]
  },
  {
   "cell_type": "markdown",
   "metadata": {},
   "source": [
    "## Load MNIST dataset"
   ]
  },
  {
   "cell_type": "code",
   "execution_count": 2,
   "metadata": {},
   "outputs": [],
   "source": [
    "from chainer.datasets import mnist\n",
    "\n",
    "train_valid, test = mnist.get_mnist()"
   ]
  },
  {
   "cell_type": "code",
   "execution_count": 3,
   "metadata": {},
   "outputs": [
    {
     "name": "stdout",
     "output_type": "stream",
     "text": [
      "train_valid: <class 'chainer.datasets.tuple_dataset.TupleDataset'>\n",
      "test: <class 'chainer.datasets.tuple_dataset.TupleDataset'>\n",
      "# of train_valid: 60000\n",
      "# of test: 10000\n"
     ]
    }
   ],
   "source": [
    "print(\"train_valid: %s\" % type(train_valid))\n",
    "print(\"test: %s\" % type(test))\n",
    "\n",
    "print(\"# of train_valid: %s\" % len(train_valid))\n",
    "print(\"# of test: %s\" % len(test))"
   ]
  },
  {
   "cell_type": "markdown",
   "metadata": {},
   "source": [
    "### Split the dataset"
   ]
  },
  {
   "cell_type": "code",
   "execution_count": 4,
   "metadata": {},
   "outputs": [],
   "source": [
    "train, valid = split_dataset_random(train_valid, 50000, seed = 0)"
   ]
  },
  {
   "cell_type": "code",
   "execution_count": 5,
   "metadata": {},
   "outputs": [
    {
     "name": "stdout",
     "output_type": "stream",
     "text": [
      "# of training dataset:  50000\n",
      "# of validation dataset:  10000\n",
      "# of test dataset:  10000\n"
     ]
    }
   ],
   "source": [
    "print(\"# of training dataset: \",  len(train))\n",
    "print(\"# of validation dataset: \", len(valid))\n",
    "print(\"# of test dataset: \", len(test))"
   ]
  },
  {
   "cell_type": "markdown",
   "metadata": {},
   "source": [
    "## Prepare iterators"
   ]
  },
  {
   "cell_type": "code",
   "execution_count": 6,
   "metadata": {},
   "outputs": [],
   "source": [
    "batch_size = 128\n",
    "\n",
    "train_iter = iterators.SerialIterator(train, batch_size)\n",
    "valid_iter = iterators.SerialIterator(valid, batch_size, repeat=False, shuffle=False)\n",
    "test_iter  = iterators.SerialIterator(test, batch_size, repeat=False, shuffle=False)"
   ]
  },
  {
   "cell_type": "markdown",
   "metadata": {},
   "source": [
    "## Build the model"
   ]
  },
  {
   "cell_type": "code",
   "execution_count": 7,
   "metadata": {},
   "outputs": [],
   "source": [
    "class LeNet5LikeConvNet(Chain):\n",
    "    def __init__(self):\n",
    "        super(LeNet5LikeConvNet, self).__init__()\n",
    "        \n",
    "        with self.init_scope():\n",
    "            self.c1 = L.Convolution2D(1, 6, ksize=5, stride=1, pad=2)  # same padding      \n",
    "            self.c3 = L.Convolution2D(6, 16, ksize=5, stride=1)\n",
    "            self.c5 = L.Convolution2D(16, 120, ksize=5, stride=1)\n",
    "            self.f6  = L.Linear(None, 84)\n",
    "            self.out = L.Linear(84, 10)\n",
    "    \n",
    "    def __call__(self, x):\n",
    "        X = F.reshape(x, (-1, 1, 28, 28))\n",
    "\n",
    "        a1 = F.tanh(self.c1(X))                                # shape: (m, 6, 28, 28)\n",
    "        a2 = F.max_pooling_2d(a1, 2, stride=2)  # shape: (m, 6, 14, 14)\n",
    "        a3 = F.tanh(self.c3(a2))                              # shape: (m, 16, 10, 10)\n",
    "        a4 = F.max_pooling_2d(a3, 2, stride=2)  # shape: (m, 16, 5, 5)\n",
    "        a5 = F.tanh(self.c5(a4))                              # shape: (m, 120, 1, 1)\n",
    "        a6 = F.tanh(self.f6(a5))                              # shape: (m, 84)\n",
    "        out =self.out(a6)                                         # shape: (m, 10) \n",
    "        \n",
    "        if chainer.config.train:\n",
    "            return out\n",
    "\n",
    "        return F.softmax(out)"
   ]
  },
  {
   "cell_type": "code",
   "execution_count": 8,
   "metadata": {},
   "outputs": [
    {
     "name": "stdout",
     "output_type": "stream",
     "text": [
      "<class 'chainer.variable.Variable'>\n",
      "(1, 10)\n",
      "variable([[ 0.20442472  0.02512133 -0.51674044 -0.19569725  0.3151341\n",
      "            0.057723    0.17618088 -0.09279872  0.23288204  0.01059669]])\n"
     ]
    }
   ],
   "source": [
    "x0, y0 = train[0]\n",
    "model = LeNet5LikeConvNet()\n",
    "print(type(model(x0)))\n",
    "\n",
    "print(model(x0).shape)\n",
    "print(model(x0))"
   ]
  },
  {
   "cell_type": "markdown",
   "metadata": {},
   "source": [
    "## Train the model"
   ]
  },
  {
   "cell_type": "code",
   "execution_count": 9,
   "metadata": {},
   "outputs": [],
   "source": [
    "def create_trainer(model,  train_iter, valid_iter, max_epoch=10, gpu_id = -1):\n",
    "    if gpu_id >= 0:\n",
    "        model.to_gpu(gpu_id)\n",
    "\n",
    "    optimizer = optimizers.Adam()\n",
    "    optimizer.setup(model)\n",
    "    \n",
    "    updater = training.updater.StandardUpdater(train_iter, optimizer, device=gpu_id)\n",
    "\n",
    "    trainer = training.Trainer(updater, (max_epoch, 'epoch'), out='out/mnist')\n",
    "    \n",
    "    trainer.extend(extensions.LogReport())\n",
    "    trainer.extend(extensions.snapshot(filename='snapshot_epoch-{.updater.epoch}'))\n",
    "    trainer.extend(extensions.snapshot_object(model.predictor, filename='model_epoch-{.updater.epoch}'))\n",
    "    trainer.extend(extensions.Evaluator(valid_iter, model, device=gpu_id))\n",
    "    trainer.extend(extensions.PrintReport(['epoch', 'main/loss', 'main/accuracy', 'validation/main/loss', 'validation/main/accuracy', 'elapsed_time']))\n",
    "    trainer.extend(extensions.PlotReport(['main/loss', 'validation/main/loss'], x_key='epoch', file_name='loss.png'))\n",
    "    trainer.extend(extensions.PlotReport(['main/accuracy', 'validation/main/accuracy'], x_key='epoch', file_name='accuracy.png'))\n",
    "    trainer.extend(extensions.dump_graph('main/loss'))\n",
    "    \n",
    "    return trainer"
   ]
  },
  {
   "cell_type": "code",
   "execution_count": 10,
   "metadata": {},
   "outputs": [],
   "source": [
    "def reset_seed(seed=0):\n",
    "    random.seed(seed)\n",
    "    np.random.seed(seed)\n",
    "\n",
    "reset_seed(0)"
   ]
  },
  {
   "cell_type": "code",
   "execution_count": 11,
   "metadata": {},
   "outputs": [
    {
     "name": "stdout",
     "output_type": "stream",
     "text": [
      "epoch       main/loss   main/accuracy  validation/main/loss  validation/main/accuracy  elapsed_time\n",
      "\u001b[J1           0.290691    0.918978       1.51249               0.969442                  59.2987       \n",
      "\u001b[J2           0.0800085   0.975963       1.49165               0.980617                  126.013       \n",
      "\u001b[J3           0.0551037   0.983173       1.4858                0.984177                  184.098       \n",
      "\u001b[J4           0.0420847   0.987552       1.48367               0.984672                  242.801       \n",
      "\u001b[J5           0.0339842   0.98981        1.47957               0.987243                  300.647       \n",
      "\u001b[J6           0.0268326   0.991747       1.47875               0.986551                  359.178       \n",
      "\u001b[J7           0.0218041   0.993067       1.47699               0.988133                  417.147       \n",
      "\u001b[J8           0.0178369   0.994651       1.47675               0.987243                  476.947       \n",
      "\u001b[J9           0.014369    0.995624       1.47596               0.987836                  537.306       \n",
      "\u001b[J10          0.0104429   0.997043       1.47556               0.987243                  597.231       \n"
     ]
    }
   ],
   "source": [
    "net = LeNet5LikeConvNet()\n",
    "model = L.Classifier(net)\n",
    "\n",
    "train_iter.reset()\n",
    "valid_iter.reset()\n",
    "\n",
    "trainer = create_trainer(model, train_iter, valid_iter, max_epoch=10)\n",
    "trainer.run()"
   ]
  },
  {
   "cell_type": "markdown",
   "metadata": {},
   "source": [
    "## Evaluate the model with test set"
   ]
  },
  {
   "cell_type": "code",
   "execution_count": 12,
   "metadata": {},
   "outputs": [
    {
     "name": "stdout",
     "output_type": "stream",
     "text": [
      "Test accuracy: 0.9887262658227848\n"
     ]
    }
   ],
   "source": [
    "gpu_id = -1\n",
    "\n",
    "test_iter.reset()\n",
    "test_evaluator = extensions.Evaluator(test_iter, model, device=gpu_id)\n",
    "results = test_evaluator()\n",
    "print('Test accuracy:', results['main/accuracy'])"
   ]
  },
  {
   "cell_type": "markdown",
   "metadata": {},
   "source": [
    "## Inference"
   ]
  },
  {
   "cell_type": "code",
   "execution_count": 13,
   "metadata": {},
   "outputs": [],
   "source": [
    "import matplotlib.pyplot as plt\n",
    "%matplotlib inline"
   ]
  },
  {
   "cell_type": "code",
   "execution_count": 14,
   "metadata": {},
   "outputs": [
    {
     "data": {
      "image/png": "[encoded data removed]",
      "text/plain": [
       "<Figure size 576x576 with 10 Axes>"
      ]
     },
     "metadata": {},
     "output_type": "display_data"
    }
   ],
   "source": [
    "infer_net = LeNet5LikeConvNet()\n",
    "serializers.load_npz(\n",
    "    'out/mnist/snapshot_epoch-10',\n",
    "    infer_net, path='updater/model:main/predictor/')\n",
    "\n",
    "\n",
    "# figure\n",
    "fig, axes = plt.subplots(5, 2, figsize=(8, 8))\n",
    "title = 'LeNet5 like Conv Net'\n",
    "fig.suptitle(title, fontsize=12)\n",
    "\n",
    "\n",
    "with chainer.using_config('train', False), chainer.using_config('enable_backprop', False):\n",
    "    for idx, randint in enumerate(np.random.randint(0, len(test), size = 10)):\n",
    "        test_x, test_label = test[randint]\n",
    "\n",
    "        pred = infer_net(test_x).data\n",
    "        pred_val = np.round(pred.max(axis=None), decimals=3)\n",
    "        pred_label = pred.argmax(axis=None)\n",
    "                \n",
    "        row = int(idx / 2)\n",
    "        fig.subplots_adjust(wspace=0.5, hspace=2.0)\n",
    "        ax = axes[row, idx % 2]\n",
    "        ax.axis('off')\n",
    "        ax.set_title(\"pred: {}, actual: {}\".format(pred_label, test_label))\n",
    "        ax.text(0.5, -0.5, \"probalitity: {:.2f}\".format(pred_val), size=12, ha=\"center\", transform=ax.transAxes)\n",
    "        ax.imshow(test_x.reshape(28, 28), cmap='gray')"
   ]
  }
 ],
 "metadata": {
  "kernelspec": {
   "display_name": "Python 3",
   "language": "python",
   "name": "python3"
  },
  "language_info": {
   "codemirror_mode": {
    "name": "ipython",
    "version": 3
   },
   "file_extension": ".py",
   "mimetype": "text/x-python",
   "name": "python",
   "nbconvert_exporter": "python",
   "pygments_lexer": "ipython3",
   "version": "3.5.2"
  }
 },
 "nbformat": 4,
 "nbformat_minor": 2
}

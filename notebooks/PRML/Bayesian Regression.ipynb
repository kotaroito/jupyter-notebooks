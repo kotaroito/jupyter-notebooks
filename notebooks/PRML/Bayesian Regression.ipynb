{
 "cells": [
  {
   "cell_type": "markdown",
   "metadata": {},
   "source": [
    "## Bayesian Ridge Regression\n",
    "\n",
    "This notebook explains Bayeisian Ridge Regression.\n",
    "\n",
    "http://scikit-learn.org/stable/auto_examples/linear_model/plot_bayesian_ridge.html\n",
    "\n"
   ]
  },
  {
   "cell_type": "code",
   "execution_count": 18,
   "metadata": {},
   "outputs": [],
   "source": [
    "from sklearn import linear_model\n",
    "import numpy as np\n",
    "import matplotlib.pyplot as plt\n",
    "%matplotlib inline"
   ]
  },
  {
   "cell_type": "markdown",
   "metadata": {},
   "source": [
    "### Probabilistic Model\n",
    "\n",
    "BayesianRidge estimates a probabilistic model of the regression problem as follows.\n",
    "\n",
    "$$\n",
    "\\begin{align}\n",
    "p(y|X,w, \\alpha)=\\mathcal{N}(y|Xw,\\,\\alpha)\n",
    "\\end{align}\n",
    "$$\n",
    "\n",
    "The prior for the parameter w is given by a spherical Gaussian:\n",
    "\n",
    "$$\n",
    "\\begin{align}\n",
    "p(w|\\lambda)=\\mathcal{N}(w|0,\\lambda^{-1}I_p)\n",
    "\\end{align}\n",
    "$$"
   ]
  },
  {
   "cell_type": "markdown",
   "metadata": {},
   "source": [
    "### Training dataset\n",
    "\n",
    "The input feature is a polinomial of x. Its degree is 9.\n",
    "\n",
    "$$\n",
    "\\begin{align}\n",
    "Xw = w_0 + w_1x + w_2x^{2} + \\cdot\\cdot\\cdot + w_9x^{9}\n",
    "\\end{align}\n",
    "$$\n",
    "\n",
    "\n",
    "The target value is generated via the following function. Note that f is a function of x, not a function of polinimial.\n",
    "\n",
    "$$\n",
    "\\begin{align}\n",
    "y = f(x) = \\sqrt{x} sin(x) + noise\n",
    "\\end{align}\n",
    "$$"
   ]
  },
  {
   "cell_type": "code",
   "execution_count": 29,
   "metadata": {},
   "outputs": [],
   "source": [
    "lw = 2  # line width\n",
    "degree = 10  # degree of a polynomial"
   ]
  },
  {
   "cell_type": "code",
   "execution_count": 30,
   "metadata": {},
   "outputs": [],
   "source": [
    "def f(x, noise_amount):\n",
    "    y = np.sqrt(x) * np.sin(x)\n",
    "    noise = np.random.normal(0, 1, len(x))\n",
    "    return y + noise_amount * noise\n",
    "\n",
    "x = np.linspace(0, 10, 100)\n",
    "X = np.vander(x, degree)\n",
    "y = f(x, noise_amount=0.1)"
   ]
  },
  {
   "cell_type": "markdown",
   "metadata": {},
   "source": [
    "### Train"
   ]
  },
  {
   "cell_type": "code",
   "execution_count": 31,
   "metadata": {},
   "outputs": [
    {
     "data": {
      "text/plain": [
       "BayesianRidge(alpha_1=1e-06, alpha_2=1e-06, compute_score=False, copy_X=True,\n",
       "       fit_intercept=True, lambda_1=1e-06, lambda_2=1e-06, n_iter=300,\n",
       "       normalize=False, tol=0.001, verbose=False)"
      ]
     },
     "execution_count": 31,
     "metadata": {},
     "output_type": "execute_result"
    }
   ],
   "source": [
    "clf_poly = linear_model.BayesianRidge()\n",
    "clf_poly.fit(X, y)"
   ]
  },
  {
   "cell_type": "markdown",
   "metadata": {},
   "source": [
    "### Predict"
   ]
  },
  {
   "cell_type": "code",
   "execution_count": 42,
   "metadata": {},
   "outputs": [
    {
     "data": {
      "image/png": "[encoded data removed]",
      "text/plain": [
       "<Figure size 432x360 with 1 Axes>"
      ]
     },
     "metadata": {},
     "output_type": "display_data"
    }
   ],
   "source": [
    "x_plot = np.linspace(0, 11, 25)\n",
    "X_plot = np.vander(x_plot, degree)\n",
    "y_plot = f(x_plot, noise_amount=0)\n",
    "y_mean, y_std = clf_poly.predict(X_plot, return_std=True)\n",
    "\n",
    "\n",
    "plt.figure(figsize=(6, 5))\n",
    "plt.errorbar(x_plot, y_mean, y_std, color='navy',\n",
    "             label=\"Polynomial Bayesian Ridge Regression\", linewidth=lw)\n",
    "plt.plot(x_plot, y_plot, color='gold', linewidth=lw,\n",
    "         label=\"Ground Truth\")\n",
    "plt.ylabel(\"Output y\")\n",
    "plt.xlabel(\"Feature X\")\n",
    "plt.legend(loc=\"lower left\")\n",
    "plt.show()"
   ]
  },
  {
   "cell_type": "code",
   "execution_count": 13,
   "metadata": {},
   "outputs": [
    {
     "data": {
      "text/plain": [
       "array([0.2857444 , 0.28918939, 0.29197408, 0.29230401, 0.29175278,\n",
       "       0.29115412, 0.29084545, 0.29097647, 0.29130673, 0.29148324,\n",
       "       0.29145054, 0.29133824, 0.29118517, 0.2910387 , 0.29109039,\n",
       "       0.29137207, 0.29156573, 0.29154125, 0.29156384, 0.29151251,\n",
       "       0.29181307, 0.29286328, 0.30793615, 0.65282605, 2.05662503])"
      ]
     },
     "execution_count": 13,
     "metadata": {},
     "output_type": "execute_result"
    }
   ],
   "source": [
    "y_std"
   ]
  },
  {
   "cell_type": "code",
   "execution_count": 14,
   "metadata": {},
   "outputs": [
    {
     "data": {
      "text/plain": [
       "(25,)"
      ]
     },
     "execution_count": 14,
     "metadata": {},
     "output_type": "execute_result"
    }
   ],
   "source": [
    "y_std.shape"
   ]
  },
  {
   "cell_type": "code",
   "execution_count": 15,
   "metadata": {},
   "outputs": [
    {
     "data": {
      "text/plain": [
       "(25,)"
      ]
     },
     "execution_count": 15,
     "metadata": {},
     "output_type": "execute_result"
    }
   ],
   "source": [
    "X_plot.shape"
   ]
  },
  {
   "cell_type": "code",
   "execution_count": 16,
   "metadata": {},
   "outputs": [
    {
     "data": {
      "text/plain": [
       "(100,)"
      ]
     },
     "execution_count": 16,
     "metadata": {},
     "output_type": "execute_result"
    }
   ],
   "source": [
    "y.shape"
   ]
  },
  {
   "cell_type": "code",
   "execution_count": 17,
   "metadata": {},
   "outputs": [
    {
     "data": {
      "text/plain": [
       "(100, 10)"
      ]
     },
     "execution_count": 17,
     "metadata": {},
     "output_type": "execute_result"
    }
   ],
   "source": [
    "np.vander(X, degree).shape"
   ]
  },
  {
   "cell_type": "code",
   "execution_count": 22,
   "metadata": {},
   "outputs": [
    {
     "data": {
      "text/plain": [
       "array([-9.15849364e-07,  6.41074977e-06,  6.29846137e-04, -1.38458868e-02,\n",
       "        1.10574281e-01, -3.45420287e-01,  1.65758890e-01,  4.70296302e-01,\n",
       "        4.26678154e-01,  0.00000000e+00])"
      ]
     },
     "execution_count": 22,
     "metadata": {},
     "output_type": "execute_result"
    }
   ],
   "source": [
    "clf_poly.coef_"
   ]
  },
  {
   "cell_type": "code",
   "execution_count": null,
   "metadata": {},
   "outputs": [],
   "source": []
  }
 ],
 "metadata": {
  "kernelspec": {
   "display_name": "Python 3",
   "language": "python",
   "name": "python3"
  },
  "language_info": {
   "codemirror_mode": {
    "name": "ipython",
    "version": 3
   },
   "file_extension": ".py",
   "mimetype": "text/x-python",
   "name": "python",
   "nbconvert_exporter": "python",
   "pygments_lexer": "ipython3",
   "version": "3.5.2"
  }
 },
 "nbformat": 4,
 "nbformat_minor": 2
}
